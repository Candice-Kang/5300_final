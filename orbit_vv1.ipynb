{
 "cells": [
  {
   "cell_type": "markdown",
   "metadata": {},
   "source": [
    "# Gravitational orbit using Lagrangian equation\n",
    "\n"
   ]
  },
  {
   "cell_type": "markdown",
   "metadata": {},
   "source": [
    "## Euler-Lagrange equation\n",
    "\n",
    "For a two-body system, the Lagrangian with Cartesian coordinates is\n",
    "\n",
    "$\\begin{align}\n",
    "  \\mathcal{L} = \\frac12 m_1 (\\dot x_1 ^2 + \\dot y_1 ^2) + \\frac12 m_1 (\\dot x_2 ^2 + \\dot y_2 ^2)\\\n",
    "  + \\frac{G m_1 m_2} {\\sqrt{(x_1 - x_2)^2 + (y_1 - y_2)^2}}\n",
    "\\end{align}$\n",
    "\n",
    "The Euler-Lagrange equations are\n",
    "\n",
    "$\\begin{align}\n",
    " \\frac{d}{dt}\\frac{\\partial\\mathcal{L}}{\\partial \\dot{x_1}} = \\frac{\\partial\\mathcal L}{\\partial x_1}\n",
    " \\quad\\Longrightarrow\\quad\n",
    " m_1  \\ddot x_1 = \\frac {G m_1 m_2} {\\sqrt{(x_1 - x_2)^2 + (y_1 - y_2)^2}^3} (x_2 - x_1)\n",
    "  \\ \\mbox{and}\\ \\ddot x_1 = \\frac {G m_2} {\\sqrt{(x_1 - x_2)^2 + (y_1 - y_2)^2}^3} (x_2 - x_1)\n",
    "  \\;.\n",
    "\\end{align}$\n",
    "$\\begin{align}\n",
    " \\frac{d}{dt}\\frac{\\partial\\mathcal{L}}{\\partial \\dot{y_1}} = \\frac{\\partial\\mathcal L}{\\partial y_1}\n",
    " \\quad\\Longrightarrow\\quad\n",
    " m_1  \\ddot y_1 = \\frac {G m_1 m_2} {\\sqrt{(x_1 - x_2)^2 + (y_1 - y_2)^2}^3} (y_2 - y_1)\n",
    "  \\ \\mbox{and}\\ \\ddot y_1 = \\frac {G m_2} {\\sqrt{(x_1 - x_2)^2 + (y_1 - y_2)^2}^3} (y_2 - y_1)\n",
    "  \\;.\n",
    "\\end{align}$\n",
    "$\\begin{align}\n",
    " \\frac{d}{dt}\\frac{\\partial\\mathcal{L}}{\\partial \\dot{x_2}} = \\frac{\\partial\\mathcal L}{\\partial x_2}\n",
    " \\quad\\Longrightarrow\\quad\n",
    " m_2  \\ddot x_2 = -\\frac {G m_1 m_2} {\\sqrt{(x_1 - x_2)^2 + (y_1 - y_2)^2}^3} (x_2 - x_1)\n",
    "  \\ \\mbox{and}\\ \\ddot x_2 = -\\frac {G m_1} {\\sqrt{(x_1 - x_2)^2 + (y_1 - y_2)^2}^3} (x_2 - x_1)\n",
    "  \\;.\n",
    "\\end{align}$\n",
    "$\\begin{align}\n",
    " \\frac{d}{dt}\\frac{\\partial\\mathcal{L}}{\\partial \\dot{y_2}} = \\frac{\\partial\\mathcal L}{\\partial y_2}\n",
    " \\quad\\Longrightarrow\\quad\n",
    " m_2  \\ddot y_2 = -\\frac {G m_1 m_2} {\\sqrt{(x_1 - x_2)^2 + (y_1 - y_2)^2}^3} (y_2 - y_1)\n",
    "  \\ \\mbox{and}\\ \\ddot y_2 = -\\frac {G m_1} {\\sqrt{(x_1 - x_2)^2 + (y_1 - y_2)^2}^3} (y_2 - y_1)\n",
    "  \\;.\n",
    "\\end{align}$\n",
    "\n",
    "Now we can use the equations above to solve this problem."
   ]
  },
  {
   "cell_type": "code",
   "execution_count": 1,
   "metadata": {},
   "outputs": [],
   "source": [
    "%matplotlib inline"
   ]
  },
  {
   "cell_type": "code",
   "execution_count": 2,
   "metadata": {},
   "outputs": [],
   "source": [
    "import numpy as np\n",
    "from scipy.integrate import odeint, solve_ivp\n",
    "\n",
    "import matplotlib.pyplot as plt"
   ]
  },
  {
   "cell_type": "code",
   "execution_count": 3,
   "metadata": {},
   "outputs": [],
   "source": [
    "# The dpi (dots-per-inch) setting will affect the resolution and how large\n",
    "#  the plots appear on screen and printed.  So you may want/need to adjust \n",
    "#  the figsize when creating the figure.\n",
    "plt.rcParams['figure.dpi'] = 100.    # this is the default for notebook\n",
    "\n",
    "# Change the common font size (smaller when higher dpi)\n",
    "font_size = 10\n",
    "plt.rcParams.update({'font.size': font_size})"
   ]
  },
  {
   "cell_type": "markdown",
   "metadata": {},
   "source": [
    "## Pendulum class and utility functions"
   ]
  },
  {
   "cell_type": "code",
   "execution_count": 4,
   "metadata": {},
   "outputs": [],
   "source": [
    "class Orbit():\n",
    "    \"\"\"\n",
    "    Orbit class implements the parameters and Lagrange's equations for \n",
    "     a simple pendulum (no driving or damping).\n",
    "     \n",
    "    Parameters\n",
    "    ----------\n",
    "    m1 : float\n",
    "        mass of first body\n",
    "    m2 : float\n",
    "        mass of second body\n",
    "    G : float\n",
    "        gravitational constant\n",
    "\n",
    "    Methods\n",
    "    -------\n",
    "    dy_dt(t, y)\n",
    "        Returns the right side of the differential equation in vector y, \n",
    "        given time t and the corresponding value of y.\n",
    "    \"\"\"\n",
    "    def __init__(self, m1=1., m2=1.,m3=1, G=1.\n",
    "                ):\n",
    "        self.m1 = m1\n",
    "        self.m2 = m2\n",
    "        self.m3=m3\n",
    "        self.G = G\n",
    "\n",
    "    \n",
    "    def dz_dt(self, t, z):\n",
    "        \"\"\"\n",
    "        This function returns the right-hand side of the diffeq: \n",
    "        \n",
    "        Parameters\n",
    "        ----------\n",
    "        t : float\n",
    "            time \n",
    "        z : float\n",
    "            A 8-component vector with \n",
    "                                    z[0] = x_1(t) and z[1] = x_dot_1(t)\n",
    "                                    z[2] = y_1(t) and z[3] = y_dot_1(t)\n",
    "                                    z[4] = x_2(t) and z[5] = x_dot_2(t)\n",
    "                                    z[6] = y_2(t) and z[7] = y_dot_2(t)\n",
    "            \n",
    "            \n",
    "        Returns\n",
    "        -------\n",
    "        \n",
    "        \"\"\"\n",
    "        dom = np.sqrt((z[0]-z[4])**2+(z[2]-z[6])**2)\n",
    "        return [\\\n",
    "                z[1], self.G *self.m2 * (z[4]-z[0])/dom**3, \\\n",
    "                z[3], self.G *self.m2 * (z[6]-z[2])/dom**3,\\\n",
    "                z[5], -self.G *self.m1 * (z[4]-z[0])/dom**3,\\\n",
    "                z[7], -self.G *self.m1 * (z[6]-z[2])/dom**3,\\\n",
    "               ]\n",
    "    \n",
    "    \n",
    "    \n",
    "    def solve_ode(self, t_pts, z_0,\n",
    "                  abserr=1.0e-8, relerr=1.0e-8):\n",
    "        \"\"\"\n",
    "        Solve the ODE given initial conditions.\n",
    "        Specify smaller abserr and relerr to get more precision.\n",
    "        \"\"\"\n",
    "        solution = solve_ivp(self.dz_dt, (t_pts[0], t_pts[-1]), \n",
    "                             z_0, t_eval=t_pts,method = 'RK23', \n",
    "                             atol=abserr, rtol=relerr)\n",
    "        x_1, x_dot_1, y_1, y_dot_1, x_2, x_dot_2, y_2, y_dot_2 = solution.y\n",
    "\n",
    "        return x_1, x_dot_1, y_1, y_dot_1, x_2, x_dot_2, y_2, y_dot_2\n",
    "    \n",
    "    \n",
    "    def solve_ode_Leapfrog(self, t_pts, z_0):\n",
    "        \"\"\"\n",
    "        Solve the ODE givin conditions with the Leapfrog method.\n",
    "        \"\"\"\n",
    "        delta_t = t_pts[1] - t_pts[0]\n",
    "        \n",
    "        x_1_0, x_dot_1_0, y_1_0, y_dot_1_0, \\\n",
    "                x_2_0, x_dot_2_0, y_2_0, y_dot_2_0 = z_0\n",
    "        \n",
    "        # initialize the arrays with zeroes\n",
    "        num_t_pts = len(t_pts)\n",
    "        \n",
    "        x_1 = np.zeros(num_t_pts)\n",
    "        x_dot_1 = np.zeros(num_t_pts)\n",
    "        x_dot_1_half = np.zeros(num_t_pts)\n",
    "        \n",
    "        y_1 = np.zeros(num_t_pts)\n",
    "        y_dot_1 = np.zeros(num_t_pts)\n",
    "        y_dot_1_half = np.zeros(num_t_pts)\n",
    "        \n",
    "        x_2 = np.zeros(num_t_pts)\n",
    "        x_dot_2 = np.zeros(num_t_pts)\n",
    "        x_dot_2_half = np.zeros(num_t_pts)\n",
    "        \n",
    "        y_2 = np.zeros(num_t_pts)\n",
    "        y_dot_2 = np.zeros(num_t_pts)\n",
    "        y_dot_2_half = np.zeros(num_t_pts)\n",
    "        \n",
    "        # intial conditions\n",
    "        x_1[0]=x_1_0\n",
    "        x_dot_1[0]=x_dot_1_0\n",
    "        \n",
    "        y_1[0]=y_1_0\n",
    "        y_dot_1[0]=y_dot_1_0\n",
    "        \n",
    "        x_2[0]=x_2_0\n",
    "        x_dot_2[0]=x_dot_2_0\n",
    "        \n",
    "        y_2[0]=y_2_0\n",
    "        y_dot_2[0]=y_dot_2_0\n",
    "        \n",
    "        # step through the differetial equation\n",
    "        for i in np.arange(num_t_pts - 1):\n",
    "            t=t_pts[i]\n",
    "            z=[x_1[i], x_dot_1[i],y_1[i],y_dot_1[i], \\\n",
    "              x_2[i], x_dot_2[i],y_2[i],y_dot_2[i]]\n",
    "            out = self.dz_dt(t,z)\n",
    "            \n",
    "            x_dot_1_half[i]=x_dot_1[i]+out[1]*delta_t/2.\n",
    "            x_1[i+1]=x_1[i]+x_dot_1_half[i]*delta_t\n",
    "            \n",
    "            y_dot_1_half[i]=y_dot_1[i]+out[3]*delta_t/2.\n",
    "            y_1[i+1]=y_1[i]+y_dot_1_half[i]*delta_t\n",
    "             \n",
    "            x_dot_2_half[i]=x_dot_2[i]+out[5]*delta_t/2.\n",
    "            x_2[i+1]=x_2[i]+x_dot_2_half[i]*delta_t\n",
    "            \n",
    "            y_dot_2_half[i]=y_dot_2[i]+out[7]*delta_t/2.\n",
    "            y_2[i+1]=y_2[i]+y_dot_2_half[i]*delta_t\n",
    "            \n",
    "            z=[x_1[i+1], x_dot_1[i],y_1[i+1],y_dot_1[i], \\\n",
    "            x_2[i+1], x_dot_2[i],y_2[i+1],y_dot_2[i]]\n",
    "            out = self.dz_dt(t,z)\n",
    "            \n",
    "            x_dot_1[i+1] = x_dot_1_half[i]+out[1]*delta_t/2.\n",
    "            y_dot_1[i+1] = x_dot_1_half[i]+out[3]*delta_t/2.\n",
    "            x_dot_2[i+1] = x_dot_2_half[i]+out[5]*delta_t/2.\n",
    "            y_dot_2[i+1] = x_dot_2_half[i]+out[7]*delta_t/2.\n",
    "        \n",
    "        return x_1, x_dot_1, y_1, y_dot_1, x_2, x_dot_2, y_2, y_dot_2\n",
    "    \n",
    "    def solve_ode_Leapfrog_n(self,t_pts,z_0):\n",
    "        \"\"\"\n",
    "        Solve the ODE givin initial conditions with the Leapfrog method.\n",
    "        Now works for arbitrary number of points. z_0 should have\n",
    "        dimension 4n: (x_0,xdot_0,y_0,ydot_0) times (1,...,n)\n",
    "        while z is a 2d array with shape 4n by len(t_pts).\n",
    "        (This becomes 6n when it comes to three dimensions.)\n",
    "        \"\"\"\n",
    "        delta_t=t_pts[1]-t_pts[0]\n",
    "        \n",
    "        #initialize the z array with zeroes\n",
    "        num_t_pts = len(t_pts)    # number of time points\n",
    "        n_tot = len(z_0)\n",
    "        z = np.zeros(shape=(n_tot,num_t_pts) )\n",
    "        dot_half = np.zeros (int(n_tot/2))\n",
    "        \n",
    "        # initial conditions\n",
    "        z[:,0]=z_0\n",
    "        \n",
    "        # step through the differential equation\n",
    "        for i in np.arange(num_t_pts - 1):\n",
    "            t=t_pts[i]\n",
    "            \n",
    "            z_now=z[:,i]\n",
    "            out=np.asarray(self.dz_dt(t,z_now))   # convert to numpy array\n",
    "            \n",
    "            dot_half = z_now[1::2] + out[1::2]*delta_t/2.\n",
    "            z[0::2,i+1] = z_now[0::2] + dot_half*delta_t\n",
    "            \n",
    "            z_now[0::2]=z[0::2,i+1]\n",
    "            out=np.asarray(self.dz_dt(t,z_now))  # convert to numpy array \n",
    "            \n",
    "            z[1::2,i+1] = dot_half+out[1::2]*delta_t/2.\n",
    "            \n",
    "            return z\n",
    "    "
   ]
  },
  {
   "cell_type": "code",
   "execution_count": 5,
   "metadata": {},
   "outputs": [],
   "source": [
    "def plot_y_vs_x(x, y, axis_labels=None, label=None, title=None, \n",
    "                color=None, linestyle=None, semilogy=False, loglog=False,\n",
    "                ax=None):\n",
    "    \"\"\"\n",
    "    Generic plotting function: return a figure axis with a plot of y vs. x,\n",
    "    with line color and style, title, axis labels, and line label\n",
    "    \"\"\"\n",
    "    if ax is None:        # if the axis object doesn't exist, make one\n",
    "        ax = plt.gca()\n",
    "\n",
    "    if (semilogy):\n",
    "        line, = ax.semilogy(x, y, label=label, \n",
    "                            color=color, linestyle=linestyle)\n",
    "    elif (loglog):\n",
    "        line, = ax.loglog(x, y, label=label, \n",
    "                          color=color, linestyle=linestyle)\n",
    "    else:\n",
    "        line, = ax.plot(x, y, label=label, \n",
    "                    color=color, linestyle=linestyle)\n",
    "\n",
    "    if label is not None:    # if a label if passed, show the legend\n",
    "        ax.legend()\n",
    "    if title is not None:    # set a title if one if passed\n",
    "        ax.set_title(title)\n",
    "    if axis_labels is not None:  # set x-axis and y-axis labels if passed  \n",
    "        ax.set_xlabel(axis_labels[0])\n",
    "        ax.set_ylabel(axis_labels[1])\n",
    "\n",
    "    return ax, line"
   ]
  },
  {
   "cell_type": "code",
   "execution_count": 6,
   "metadata": {},
   "outputs": [],
   "source": [
    "def start_stop_indices(t_pts, plot_start, plot_stop):\n",
    "    start_index = (np.fabs(t_pts-plot_start)).argmin()  # index in t_pts array \n",
    "    stop_index = (np.fabs(t_pts-plot_stop)).argmin()  # index in t_pts array \n",
    "    return start_index, stop_index"
   ]
  },
  {
   "cell_type": "code",
   "execution_count": 7,
   "metadata": {},
   "outputs": [],
   "source": [
    "def start_stop_indices(t_pts, plot_start, plot_stop):\n",
    "    start_index = (np.fabs(t_pts-plot_start)).argmin()  # index in t_pts array \n",
    "    stop_index = (np.fabs(t_pts-plot_stop)).argmin()  # index in t_pts array \n",
    "    return start_index, stop_index"
   ]
  },
  {
   "cell_type": "markdown",
   "metadata": {},
   "source": [
    "## Make orbit plots"
   ]
  },
  {
   "cell_type": "code",
   "execution_count": 8,
   "metadata": {
    "scrolled": false
   },
   "outputs": [
    {
     "data": {
      "image/png": "[encoded data removed]",
      "text/plain": [
       "<Figure size 500x500 with 1 Axes>"
      ]
     },
     "metadata": {
      "needs_background": "light"
     },
     "output_type": "display_data"
    }
   ],
   "source": [
    "# Labels for individual plot axes\n",
    "orbit_labels=(r'$x$', r'$y$')\n",
    "\n",
    "# Common plotting time (generate the full time then use slices)\n",
    "t_start = 0.\n",
    "t_end = 10.\n",
    "delta_t = 0.01\n",
    "\n",
    "t_pts = np.arange(t_start, t_end+delta_t, delta_t)  \n",
    "\n",
    "m1 = 1.\n",
    "m2 = 5.\n",
    "G = 1.\n",
    "\n",
    "# Instantiate a Two-body system\n",
    "p1 = Orbit(m1=m1, m2=m2, G=G)\n",
    "\n",
    "# inital conditions with the velocity of the center of mass equals to zero.\n",
    "\n",
    "x_1_0, x_dot_1_0 = 1, -1\n",
    "y_1_0, y_dot_1_0 = 1, 1\n",
    "x_2_0,x_dot_2_0 = - (m1/m2) * x_1_0, - (m1/m2) * x_dot_1_0\n",
    "y_2_0,y_dot_2_0 = - (m1/m2) * y_1_0, - (m1/m2) * y_dot_1_0\n",
    "\n",
    "z_0=[x_1_0,x_dot_1_0,y_1_0,y_dot_1_0, \\\n",
    "    x_2_0,x_dot_2_0,y_2_0,y_dot_2_0]\n",
    "\n",
    "\n",
    "x_1, x_dot_1, y_1, y_dot_1, x_2, x_dot_2, y_2, y_dot_2 = p1.solve_ode(t_pts,z_0)\n",
    "\n",
    "# Now we can make the figure\n",
    "fig=plt.figure(figsize=(5,5))\n",
    "\n",
    "\n",
    "ax=fig.add_subplot(1,1,1)\n",
    "start,stop = start_stop_indices(t_pts,t_start,t_end)\n",
    "ax.plot(x_1,y_1,color='blue',label='$body_1$')\n",
    "ax.plot(x_2,y_2,color = 'red',label='$body_2$')\n",
    "ax.set_title('Gravitational orbit')\n",
    "ax.legend()\n",
    "ax.set_aspect(1)\n",
    "\n",
    "fig.tight_layout()\n",
    "fig.savefig('Gravitational_orbit.png',bbox_inches='tight')\n"
   ]
  },
  {
   "cell_type": "code",
   "execution_count": 9,
   "metadata": {},
   "outputs": [],
   "source": [
    "# From the figure above, we can find that both of the two bodies have circular orbits and the radius of their orbits vary."
   ]
  },
  {
   "cell_type": "markdown",
   "metadata": {},
   "source": [
    "(b) Now let us make one of the bodies very heavy"
   ]
  },
  {
   "cell_type": "code",
   "execution_count": 10,
   "metadata": {},
   "outputs": [
    {
     "data": {
      "image/png": "[encoded data removed]",
      "text/plain": [
       "<Figure size 500x500 with 1 Axes>"
      ]
     },
     "metadata": {
      "needs_background": "light"
     },
     "output_type": "display_data"
    }
   ],
   "source": [
    "# Labels for individual plot axes\n",
    "orbit_labels=(r'$x$', r'$y$')\n",
    "\n",
    "# Common plotting time (generate the full time then use slices)\n",
    "t_start = 0.\n",
    "t_end = 20.\n",
    "delta_t = 0.001\n",
    "\n",
    "t_pts = np.arange(t_start, t_end+delta_t, delta_t)  \n",
    "\n",
    "m1 = 20.  # make m1 heavy\n",
    "m2 = 1\n",
    "G = 20.\n",
    "\n",
    "# Instantiate a Two-body system\n",
    "p1 = Orbit(m1=m1, m2=m2, G=G)\n",
    "\n",
    "# inital conditions with the velocity of the center of mass equals to zero.\n",
    "\n",
    "x_1_0, x_dot_1_0 = 0.1, 0\n",
    "y_1_0, y_dot_1_0 = 0, 0.75\n",
    "x_2_0,x_dot_2_0 = - (m1/m2) * x_1_0, - (m1/m2) * x_dot_1_0\n",
    "y_2_0,y_dot_2_0 = - (m1/m2) * y_1_0, - (m1/m2) * y_dot_1_0\n",
    "\n",
    "z_0=[x_1_0,x_dot_1_0,y_1_0,y_dot_1_0, \\\n",
    "    x_2_0,x_dot_2_0,y_2_0,y_dot_2_0]\n",
    "\n",
    "\n",
    "x_1, x_dot_1, y_1, y_dot_1, x_2, x_dot_2, y_2, y_dot_2 = p1.solve_ode(t_pts,z_0)\n",
    "\n",
    "# Now we can make the figure\n",
    "fig=plt.figure(figsize=(5,5))\n",
    "\n",
    "\n",
    "ax=fig.add_subplot(1,1,1)\n",
    "start,stop = start_stop_indices(t_pts,t_start,t_end)\n",
    "ax.plot(x_1,y_1,color='blue',label='$body_1$')\n",
    "ax.plot(x_2,y_2,color = 'red',label='$body_2$')\n",
    "ax.set_title('Gravitational orbit(b)')\n",
    "ax.legend()\n",
    "ax.set_aspect(1)\n",
    "\n",
    "fig.tight_layout()\n",
    "fig.savefig('Gravitational_orbit_(b).png',bbox_inches='tight')"
   ]
  },
  {
   "cell_type": "code",
   "execution_count": 11,
   "metadata": {},
   "outputs": [],
   "source": [
    "# By making body1 very heavy, we can see from the plot that body1 can be treated as stationary since its orbit is super tiny.\n",
    "# Hence, this problem reduce to the simple orbit we talked about in class."
   ]
  },
  {
   "cell_type": "markdown",
   "metadata": {},
   "source": [
    "## Solve the differential equations using Leapfrog method\n",
    "Now we switch to the Leapfrog method.\n",
    "\n",
    "Since we have already defined solve_ode_Leapfrog above, we simply need to repeat previous steps and call the function during this process."
   ]
  },
  {
   "cell_type": "code",
   "execution_count": 12,
   "metadata": {},
   "outputs": [
    {
     "data": {
      "image/png": "[encoded data removed]",
      "text/plain": [
       "<Figure size 500x500 with 1 Axes>"
      ]
     },
     "metadata": {
      "needs_background": "light"
     },
     "output_type": "display_data"
    }
   ],
   "source": [
    "# Labels for individual plot axes\n",
    "orbit_labels=(r'$x$', r'$y$')\n",
    "\n",
    "# Common plotting time (generate the full time then use slices)\n",
    "t_start = 0.\n",
    "t_end = 10.\n",
    "delta_t = 0.01\n",
    "\n",
    "t_pts = np.arange(t_start, t_end+delta_t, delta_t)  \n",
    "\n",
    "m1 = 1.\n",
    "m2 = 5.\n",
    "G = 1.\n",
    "\n",
    "# Instantiate a Two-body system\n",
    "p1 = Orbit(m1=m1, m2=m2, G=G)\n",
    "\n",
    "# inital conditions with the velocity of the center of mass equals to zero.\n",
    "\n",
    "x_1_0, x_dot_1_0 = 1, -1\n",
    "y_1_0, y_dot_1_0 = 1, 1\n",
    "x_2_0,x_dot_2_0 = - (m1/m2) * x_1_0, - (m1/m2) * x_dot_1_0\n",
    "y_2_0,y_dot_2_0 = - (m1/m2) * y_1_0, - (m1/m2) * y_dot_1_0\n",
    "\n",
    "z_0=[x_1_0,x_dot_1_0,y_1_0,y_dot_1_0, \\\n",
    "    x_2_0,x_dot_2_0,y_2_0,y_dot_2_0]\n",
    "\n",
    "\n",
    "x_1, x_dot_1, y_1, y_dot_1, x_2, x_dot_2, y_2, y_dot_2 = p1.solve_ode_Leapfrog(t_pts,z_0) # replace the original \"solve_ode function\"\n",
    "\n",
    "# Now we can make the figure\n",
    "fig=plt.figure(figsize=(5,5))\n",
    "\n",
    "\n",
    "ax=fig.add_subplot(1,1,1)\n",
    "start,stop = start_stop_indices(t_pts,t_start,t_end)\n",
    "ax.plot(x_1,y_1,color='blue',label='$body_1$')\n",
    "ax.plot(x_2,y_2,color = 'red',label='$body_2$')\n",
    "ax.set_title('Gravitational orbit with Leapfrog')\n",
    "ax.legend()\n",
    "ax.set_aspect(1)\n",
    "\n",
    "fig.tight_layout()\n",
    "fig.savefig('Gravitational_orbit_Leapfrog.png',bbox_inches='tight')\n"
   ]
  },
  {
   "cell_type": "markdown",
   "metadata": {},
   "source": [
    "Now let's check for conservation of energy."
   ]
  },
  {
   "cell_type": "code",
   "execution_count": null,
   "metadata": {},
   "outputs": [],
   "source": []
  },
  {
   "cell_type": "markdown",
   "metadata": {},
   "source": [
    "## Three body orbits\n",
    "The idea is the same as the process above, we need to compute the Lagrangian again and add the parameters for body3."
   ]
  },
  {
   "cell_type": "code",
   "execution_count": null,
   "metadata": {},
   "outputs": [],
   "source": []
  }
 ],
 "metadata": {
  "kernelspec": {
   "display_name": "Python 3",
   "language": "python",
   "name": "python3"
  },
  "language_info": {
   "codemirror_mode": {
    "name": "ipython",
    "version": 3
   },
   "file_extension": ".py",
   "mimetype": "text/x-python",
   "name": "python",
   "nbconvert_exporter": "python",
   "pygments_lexer": "ipython3",
   "version": "3.8.5"
  }
 },
 "nbformat": 4,
 "nbformat_minor": 2
}
